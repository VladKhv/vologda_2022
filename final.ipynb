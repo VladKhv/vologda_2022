{
 "cells": [
  {
   "cell_type": "code",
   "execution_count": 1,
   "id": "8ac6b0ad",
   "metadata": {},
   "outputs": [],
   "source": [
    "%matplotlib inline\n",
    "\n",
    "import gc\n",
    "import os\n",
    "import sys\n",
    "import pandas as pd\n",
    "import numpy as np\n",
    "import tqdm\n",
    "import seaborn as sns\n",
    "from scipy.stats import mode\n",
    "\n",
    "from catboost import CatBoostClassifier, Pool\n",
    "from catboost import Pool, EShapCalcType, EFeaturesSelectionAlgorithm\n",
    "from sklearn.model_selection import cross_val_score\n",
    "from sklearn.metrics import recall_score, precision_score\n",
    "import platform\n",
    "from collections import Counter\n",
    "from sklearn.metrics import recall_score, matthews_corrcoef\n",
    "from lightgbm import LGBMClassifier, log_evaluation\n",
    "from lightgbm import early_stopping\n",
    "\n",
    "import matplotlib\n",
    "import matplotlib.pyplot as plt \n",
    "\n",
    "from sklearn.model_selection import train_test_split, StratifiedKFold, KFold\n",
    "from sklearn.metrics import roc_auc_score, matthews_corrcoef, accuracy_score\n",
    "from sklearn.metrics import recall_score, precision_score\n",
    "from sklearn.metrics import classification_report\n",
    "from scipy import stats\n",
    "\n",
    "from sklearn.preprocessing import LabelEncoder\n",
    "from sklearn.feature_extraction.text import TfidfVectorizer\n",
    "\n",
    "\n",
    "pd.set_option('display.max_columns', None)\n",
    "\n",
    "# если у вас есть CUDA, то она понадобится там для экспериментов в catboost\n",
    "os.environ[\"CUDA_VISIBLE_DEVICES\"] = '0'\n",
    "\n",
    "task_type = 'GPU'\n",
    "if platform.node() == 'VLAD2016':\n",
    "    task_type = 'CPU'\n",
    "    \n",
    "import warnings\n",
    "warnings.simplefilter(action = 'ignore', category = FutureWarning)\n",
    "warnings.simplefilter(action = 'ignore', category = DeprecationWarning)\n",
    "warnings.simplefilter(action = 'ignore', category = UserWarning)\n",
    "warnings.simplefilter(action = 'ignore', category = RuntimeWarning)\n",
    "warnings.filterwarnings(\"ignore\", message = \"numpy.dtype size changed\")\n",
    "warnings.filterwarnings(\"ignore\", message = \"numpy.ufunc size changed\")\n",
    "pd.options.mode.chained_assignment = None\n",
    "\n",
    "DEBUG = False\n",
    "targets = [\n",
    "    'Релевантность', \n",
    "    'Таксономия релевантные', \n",
    "    'Таксономия не релевантные', \n",
    "    'Длина отзыва', \n",
    "    'Ценности'\n",
    "]"
   ]
  },
  {
   "cell_type": "code",
   "execution_count": 2,
   "id": "17da2337",
   "metadata": {},
   "outputs": [],
   "source": [
    "df = pd.read_csv('01.csv')\n",
    "df2 = pd.read_csv('02.csv')\n",
    "df3 = pd.read_csv('03.csv')\n",
    "df4 = pd.read_csv('04.csv')\n",
    "df5 = pd.read_csv('05.csv')"
   ]
  },
  {
   "cell_type": "code",
   "execution_count": 3,
   "id": "762f68a1",
   "metadata": {},
   "outputs": [],
   "source": [
    "df['Таксономия релевантные'] = df2['Таксономия релевантные'].values\n",
    "df['Таксономия не релевантные'] = df3['Таксономия не релевантные'].values\n",
    "df['Длина отзыва'] = df4['Длина отзыва'].values\n",
    "df['Ценности'] = df5['Ценности'].values"
   ]
  },
  {
   "cell_type": "code",
   "execution_count": 4,
   "id": "8424f625",
   "metadata": {},
   "outputs": [],
   "source": [
    "df.to_csv('full.csv', index = False)"
   ]
  },
  {
   "cell_type": "code",
   "execution_count": null,
   "id": "1e551eba",
   "metadata": {},
   "outputs": [],
   "source": []
  },
  {
   "cell_type": "code",
   "execution_count": null,
   "id": "15d84532",
   "metadata": {},
   "outputs": [],
   "source": []
  },
  {
   "cell_type": "code",
   "execution_count": null,
   "id": "3e06da75",
   "metadata": {},
   "outputs": [],
   "source": []
  },
  {
   "cell_type": "markdown",
   "id": "7feb8b3f",
   "metadata": {},
   "source": [
    "https://lk.hacks-ai.ru/758289/champ"
   ]
  }
 ],
 "metadata": {
  "kernelspec": {
   "display_name": "Python 3 (ipykernel)",
   "language": "python",
   "name": "python3"
  },
  "language_info": {
   "codemirror_mode": {
    "name": "ipython",
    "version": 3
   },
   "file_extension": ".py",
   "mimetype": "text/x-python",
   "name": "python",
   "nbconvert_exporter": "python",
   "pygments_lexer": "ipython3",
   "version": "3.9.12"
  }
 },
 "nbformat": 4,
 "nbformat_minor": 5
}
